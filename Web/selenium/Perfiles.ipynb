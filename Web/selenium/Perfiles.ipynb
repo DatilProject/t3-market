{
 "cells": [
  {
   "cell_type": "code",
   "execution_count": 9,
   "metadata": {},
   "outputs": [],
   "source": [
    "import selenium.webdriver as webdriver\n",
    "import pandas as pd\n",
    "from time import sleep\n",
    "import random as rd"
   ]
  },
  {
   "cell_type": "code",
   "execution_count": 13,
   "metadata": {},
   "outputs": [],
   "source": [
    "# url = \"https://datil-market.web.app/\"\n",
    "browser = webdriver.Chrome(\"chromedriver\")\n",
    "browser.get(url)"
   ]
  },
  {
   "cell_type": "code",
   "execution_count": 12,
   "metadata": {
    "scrolled": true
   },
   "outputs": [],
   "source": [
    "\n",
    "#cerramos la ventana emergente que sale\n",
    "# popup = browser.find_element_by_xpath(\"/html/body/div[1]/div[2]/div[4]/div[2]/div/button\")\n",
    "# popup.click()\n",
    "\n",
    "# file = open(\"falta2.csv\",\"r\")\n",
    "# archivo = open(\"usuarios_2.csv\",\"a\",encoding='utf-8')\n",
    "# error = open(\"error_2.csv\",\"a\",encoding='utf-8')\n",
    "# #archivo.write(\"url_user,fecha_registro,pais\\n\")\n",
    "\n",
    "# contador = 1\n",
    "# for line in file:\n",
    "#     contador+=1\n",
    "#     line = line.strip()\n",
    "#     try:\n",
    "#         browser.get(line)\n",
    "#         pais = browser.find_element_by_xpath('//span[@class=\"_czm8crp\"]').text\n",
    "#         if \",\" in pais:\n",
    "#             pais = pais.replace(\",\",\";\")\n",
    "            \n",
    "#         fecha_registro = browser.find_element_by_xpath(\"//div[@class='_1jlnvra2']\").text\n",
    "#         if \",\" in fecha_registro:\n",
    "#             fecha_registro.replace(\",\", \";\")\n",
    "            \n",
    "#         info = line+\",\"+fecha_registro+\",\"+pais\n",
    "#         archivo.write(\"%s\\n\"%info)\n",
    "#         print(\"%d %s\"%(contador,info))\n",
    "#         Sleep(1+rd.randint(0,2))\n",
    "#     except:\n",
    "#         error.write(\"%s\\n\"%line)\n",
    "#         continue\n",
    "    \n",
    "    \n",
    "# archivo.close()\n",
    "# file.close()      \n",
    "browser.close()\n",
    "# error.close()"
   ]
  },
  {
   "cell_type": "code",
   "execution_count": null,
   "metadata": {},
   "outputs": [],
   "source": []
  }
 ],
 "metadata": {
  "kernelspec": {
   "display_name": "Python 3",
   "language": "python",
   "name": "python3"
  },
  "language_info": {
   "codemirror_mode": {
    "name": "ipython",
    "version": 3
   },
   "file_extension": ".py",
   "mimetype": "text/x-python",
   "name": "python",
   "nbconvert_exporter": "python",
   "pygments_lexer": "ipython3",
   "version": "3.7.6"
  }
 },
 "nbformat": 4,
 "nbformat_minor": 2
}
